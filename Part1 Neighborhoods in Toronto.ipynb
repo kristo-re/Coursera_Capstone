{
    "cells": [
        {
            "cell_type": "markdown",
            "metadata": {
                "collapsed": true
            },
            "source": "<h1 align=center>Segmenting and Clustering Neighborhoods in Toronto</font></h1>"
        },
        {
            "cell_type": "markdown",
            "metadata": {},
            "source": "<h2> Table of Contents </h2>\n<div class=\"alert alert-block alert-info\" style=\"margin-top: 20px\">\n<ol>\n    <li><a href=\"dataset\">Insert Text Here</a></li>\n    <li><a href=\"pandas\">Insert Text Here</a></li>\n</ol>\n</div>"
        },
        {
            "cell_type": "markdown",
            "metadata": {},
            "source": "## Import Libraries"
        },
        {
            "cell_type": "code",
            "execution_count": 71,
            "metadata": {},
            "outputs": [],
            "source": "import pandas as pd\nimport numpy as np\nimport urllib.request\nfrom bs4 import BeautifulSoup"
        },
        {
            "cell_type": "code",
            "execution_count": 70,
            "metadata": {},
            "outputs": [],
            "source": "#Retrieve Wikipedia webpage and HTML elements\nurl = \"https://en.wikipedia.org/wiki/List_of_postal_codes_of_Canada:_M\"\npage = urllib.request.urlopen(url)\nsoup = BeautifulSoup(page, \"lxml\")\ntable = soup.find('table', class_='wikitable sortable')"
        },
        {
            "cell_type": "code",
            "execution_count": 72,
            "metadata": {
                "scrolled": true
            },
            "outputs": [],
            "source": "#Extract the text from the Postal Code Tables\ncolumn1 = []\ncolumn2 = []\ncolumn3 = []\n\nfor row in table.findAll('tr'):\n    cells=row.findAll('td')\n    if len(cells) > 1:\n        column1.append(cells[0].get_text(strip=True))\n        column2.append(cells[1].get_text(strip=True))\n        column3.append(cells[2].get_text(strip=True))\n        \n#column1\n#column2\n#column3"
        },
        {
            "cell_type": "code",
            "execution_count": 73,
            "metadata": {},
            "outputs": [],
            "source": "#Store tables into dataframe and clean it up\ndf=pd.DataFrame(data=column1,columns=['PostalCode'])\ndf['Borough'] = column2\ndf['Neighborhood'] = column3\ndf = df[df.Borough != 'Not assigned']\n\n#df"
        },
        {
            "cell_type": "code",
            "execution_count": null,
            "metadata": {},
            "outputs": [],
            "source": ""
        }
    ],
    "metadata": {
        "kernelspec": {
            "display_name": "Python 3.6",
            "language": "python",
            "name": "python3"
        },
        "language_info": {
            "codemirror_mode": {
                "name": "ipython",
                "version": 3
            },
            "file_extension": ".py",
            "mimetype": "text/x-python",
            "name": "python",
            "nbconvert_exporter": "python",
            "pygments_lexer": "ipython3",
            "version": "3.6.9"
        }
    },
    "nbformat": 4,
    "nbformat_minor": 1
}